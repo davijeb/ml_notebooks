{
 "cells": [
  {
   "cell_type": "markdown",
   "metadata": {},
   "source": [
    "# Set Theory\n",
    "<hr>"
   ]
  },
  {
   "cell_type": "code",
   "execution_count": 1,
   "metadata": {},
   "outputs": [],
   "source": [
    "import numpy as np\n",
    "%matplotlib inline\n",
    "\n",
    "import matplotlib\n",
    "import numpy as np\n",
    "import matplotlib.pyplot as plt"
   ]
  },
  {
   "cell_type": "markdown",
   "metadata": {},
   "source": [
    "## Basic Definitions\n",
    "A **set** is a collection of objects. The set of all elements is called the **universe** and is usually denoted by $\\Omega$. If an object is x belongs to the set S,  we write that x is an element of S, which can be written formally as $x\\in S$. If x does not object is S we write $x\\notin S$ The **empty set** is usually denoted by $\\emptyset$ and is a set such that $x\\notin$ for all $x\\in\\Omega$ (i.e it has no elements). If all the elements in set B also belong to set A then B is a **subset** of A, which is denoted as $B\\subseteq A$. If there is at least one element of A that does not belong in B, then B is a proper subset of A, denoted by $B\\subset A$."
   ]
  },
  {
   "cell_type": "markdown",
   "metadata": {},
   "source": [
    "## Defining Sets"
   ]
  },
  {
   "cell_type": "markdown",
   "metadata": {},
   "source": [
    "A useful way to define a set is through a statement concerniung its elements. Let S be the set of elements such that a certain statement s(x) holds, to define S we write $$S:=\\{x \\mid s(x)\\}$$\n",
    "\n",
    "For example $A:=\\{x \\mid 1 < x < 3\\}$ is the set of all elemenmts greater than 1 and less than 3"
   ]
  },
  {
   "cell_type": "markdown",
   "metadata": {},
   "source": [
    "## Basic Operations"
   ]
  },
  {
   "cell_type": "markdown",
   "metadata": {},
   "source": [
    "### <u>Complement</u>\n",
    "The complement of $S^c$ of a set S contains all the elements that are not in S\n",
    "\n",
    "$$S^c:=\\{x\\mid\\ x\\notin S\\}$$"
   ]
  },
  {
   "cell_type": "markdown",
   "metadata": {},
   "source": [
    "### <u>Union</u>\n",
    "The union of two sets A and B contains the objects that belong to A or B.\n",
    "\n",
    "$$A\\cup B := \\{x\\mid x\\in A \\ or \\ x\\in B\\}$$\n",
    "\n",
    "This can be generalised to a sequence of sets $A_1,A_2, A_3$...\n",
    "\n",
    "$$\\bigcup_{n}A_n:=\\{x\\mid x\\in A_n \\ for \\ some \\ n\\}$$"
   ]
  },
  {
   "cell_type": "code",
   "execution_count": 3,
   "metadata": {},
   "outputs": [],
   "source": [
    "#np.union1d([1,2,3], [4,5,6])"
   ]
  },
  {
   "cell_type": "markdown",
   "metadata": {},
   "source": [
    "### <u>Intersection</u>\n",
    "The intersections of two sets A and B contains the objects and elements that belong to A and B\n",
    "\n",
    "$$A\\cap B := \\{x\\mid x\\in A \\ and \\ x\\in B\\}$$\n",
    "\n",
    "Again, this can be generalised to a sequence,\n",
    "\n",
    "$$\\bigcap_{n}A_n:=\\{x\\mid x\\in A_n \\ for \\ all \\ n\\}$$\n"
   ]
  },
  {
   "cell_type": "code",
   "execution_count": 2,
   "metadata": {},
   "outputs": [],
   "source": [
    "#np.intersect1d([1,2,3,4,5],[1,2,3])"
   ]
  },
  {
   "cell_type": "markdown",
   "metadata": {},
   "source": [
    "### <u>Difference</u>\n",
    "The difference of two sets A and B contains the elements in A that are not in B\n",
    "\n",
    "$$A/B := \\{x\\mid x\\in A \\ and \\ x\\notin B\\}$$\n"
   ]
  },
  {
   "cell_type": "code",
   "execution_count": 1,
   "metadata": {},
   "outputs": [],
   "source": [
    "#np.setdiff1d([1,2,3,4,5],[1,2,3])"
   ]
  },
  {
   "cell_type": "markdown",
   "metadata": {},
   "source": [
    "### <u>Power Set</u>\n",
    "Thw power set $2^S$ of a set S is the set of all possible subsets of S, including $\\emptyset$ and S\n",
    "\n",
    "$$2^S:=\\{S^`\\mid S^` \\subseteq S\\}$$\n",
    "\n",
    "Two sets are equal if they have the same elements, i.e.\n",
    "\n",
    "$$A = B$$ if and only if $$A \\subseteq B$$ and $$B\\subseteq A$$\n",
    "\n",
    "It is easy to verify for instance that $(A^c)^c=A$, $S\\cap\\Omega = \\Omega$ and $S\\cap\\Omega = S$"
   ]
  },
  {
   "cell_type": "markdown",
   "metadata": {},
   "source": [
    "## De Morgans Law"
   ]
  },
  {
   "cell_type": "markdown",
   "metadata": {},
   "source": [
    "For any two sets A and B\n",
    "\n",
    "$$(A\\cup B)^c=A^c\\cap B^c,$$\n",
    "\n",
    "$$(A\\cap B)^c=A^c\\cup B^c.$$"
   ]
  },
  {
   "cell_type": "markdown",
   "metadata": {},
   "source": [
    "# Linear Models 1 -  Algebra\n",
    "<hr>"
   ]
  },
  {
   "cell_type": "markdown",
   "metadata": {},
   "source": [
    "Linear models are a pillar of modern data analysis. Many phenomena can be modeled as linear, at least approximately. In addition, linear models tend to be easy to interpret (quantity A is proportional to quantity B is simpler to understand than quantity A is proportional to eB if B < 1 and to 1/B otherwise). Finally, linear models are often convenient from a pragmatic point of view: ﬁtting them to the data tends to be easy and computationally tractable. We will begin with an overview of linear algebra; being comfortable with these concepts is essential to understand linear-modeling methods.\n"
   ]
  },
  {
   "cell_type": "markdown",
   "metadata": {},
   "source": [
    "## Vector Spaces\n",
    "Lets take the following real-numbered vectors in $\\ \\mathbb{R}^2$ and $\\ \\mathbb{R}^3$ respectively\n",
    "\n",
    "$$\\begin{equation*}\n",
    "x =  \\begin{bmatrix}\n",
    "1 \\\\\n",
    "2\n",
    "\\end{bmatrix},\n",
    "\\ y =  \\begin{bmatrix}\n",
    "-1 \\\\\n",
    "2 \\\\\n",
    "3.4\n",
    "\\end{bmatrix}\n",
    "\\end{equation*}$$\n",
    "\n",
    "From the point of view of algebra, vectors are much more general objects. They are elements of sets called <b>vector spaces</b> that satisfy the following deﬁnition. "
   ]
  },
  {
   "cell_type": "markdown",
   "metadata": {},
   "source": [
    "### Definition 1.1 (Vector Spaces)\n",
    "A vector space consists of a set $\\mathcal{V}$ and two operations + and · (product) satisfying the following conditions. \n",
    "\n",
    "1. For any pair of elements $x,y \\in \\mathcal{V}$ the vector sum x + y belongs to $\\mathcal{V}$. \n",
    "2. For any $x \\in \\mathcal{V}$ and any scalar $\\alpha \\in \\mathbb{R}$ the scalar multiple $α.x \\in \\mathcal{V}$. \n",
    "3. There exists a zero vector or origin 0 such that x + 0 = x for any $x \\in \\mathcal{V}$.\n",
    "4. For any $x \\in \\mathcal{V}$ there exists an additive inverse y such that x + y = 0, usually denoted as −x.\n",
    "5. The vector sum is commutative and associative, i.e. for all $x,y \\in \\mathcal{V}$\n",
    "\n",
    "$$x+y=y+x, \\ (x+y)+z=x + (y+z)$$\n",
    "\n",
    "6. Scalar multiplication is associative, for any $\\alpha, \\beta \\in \\mathbb{R}$ and $x \\in \\mathcal{V}.$\n",
    "\n",
    "$$\\alpha(\\beta.x)=(\\alpha\\beta).x.$$\n",
    "\n",
    "7. Scalar and vector sums are both distributive, i.e. for all $\\alpha, \\beta \\in \\mathbb{R}$ and $x,y \\in \\mathcal{V}.$\n",
    "\n",
    "$$(\\alpha + \\beta).x = \\alpha.x+\\beta.x$$\n",
    "\n",
    "8. The <b>subspace</b> ofthe vector space $\\mathcal{V}$ is a subset of $\\mathcal{V}$ that is itself a vector space\n",
    "\n",
    "We can easily check that $\\mathbb{R}^n$ is a valid vector space together with the usual vector addition and vector-scalar product. In this case the zero vector is the all-zero vector $[0 \\ 0 \\ 0  \\ ...]^T$. When thinking about vector spaces it is a good idea to have $\\mathbb{R}^2$ or $\\mathbb{R}^3$ in mind to gain intuition, but it is also important to bear in mind that we can deﬁne vector sets over many other objects, such as inﬁnite sequences, polynomials, functions and even random variables as in the following example.\n",
    "\n",
    "<b>The vector space of zero-mean random variables</b>\n",
    "\n",
    "Zero-mean random variables belonging to the same probability space form a vector space together with the usual operations for adding random variables together and for multiplying random variables and scalars. This follows almost automatically from the fact that linear combinations of random variables are also random variables and from linearity of expectation. You can check for instance that if X and Y are zero-mean random variables, for any scalars α and β the random variable αX +βY is also a zero-mean random variable. The zero vector of this vector space is the random variable equal to 0 with probability one.\n",
    "\n"
   ]
  },
  {
   "cell_type": "markdown",
   "metadata": {},
   "source": [
    "### Vectors in $\\mathbb{R}^2$"
   ]
  },
  {
   "cell_type": "code",
   "execution_count": 24,
   "metadata": {},
   "outputs": [
    {
     "data": {
      "image/png": "[encoded data removed]",
      "text/plain": [
       "<matplotlib.figure.Figure at 0x2511e3dc278>"
      ]
     },
     "metadata": {},
     "output_type": "display_data"
    }
   ],
   "source": [
    "V = np.array([[1,3],[-2,4],[4,-6]])\n",
    "origin = [0], [0] # origin point\n",
    "\n",
    "plt.quiver(*origin, V[:,0], V[:,1], color=['r','b','g'], scale=21)\n",
    "plt.show()"
   ]
  },
  {
   "cell_type": "markdown",
   "metadata": {},
   "source": [
    "### Linear Dependence / Independence"
   ]
  },
  {
   "cell_type": "markdown",
   "metadata": {},
   "source": [
    "A set of m vectors $x_1, x_2,...,x_m$ is linear dependent if there exists m scalar coefficients $\\alpha_1, \\alpha_2,...,\\alpha_m$ which are <b>not</b> all equal to zero such that \n",
    "\n",
    "$$\\sum_{i=1}^{m} \\alpha_1x_i = 0$$\n",
    "Otherwise the vectors are <b>linearly independent</b>."
   ]
  },
  {
   "cell_type": "markdown",
   "metadata": {},
   "source": [
    "###  Span of a Vector Space"
   ]
  },
  {
   "cell_type": "markdown",
   "metadata": {},
   "source": [
    "We define the span of a set of vectors $x_1,...,x_m$ as the set of all possible linear combinations of the vectors\n",
    "\n",
    "$$span(x_1,...,x_m) := \\bigg\\{ y \\ | \\ y  = \\sum_{i=1}^{m}\\alpha_1x_i \\ for \\ some \\ \\alpha_1,\\alpha_2,...,\\alpha_m \\in \\mathbb{R} \\bigg\\} = 0$$\n",
    "\n",
    "This turns out to be the vector space"
   ]
  },
  {
   "attachments": {
    "image.png": {
     "image/png": "[encoded data removed]"
    }
   },
   "cell_type": "markdown",
   "metadata": {},
   "source": [
    "### Basis of a Vector Space\n",
    "\n",
    "The basis of a vector space is the set of independent vectors $x_1,...,x_m$ such that:\n",
    "\n",
    "$$\\mathcal{V} = span(x_1,...,x_m)$$\n",
    "\n",
    "All basis in a vector space will have the same cardinality\n",
    "\n",
    "![image.png](attachment:image.png)\n",
    "\n",
    "As an example, this vector can be represented by two different basis"
   ]
  },
  {
   "cell_type": "markdown",
   "metadata": {},
   "source": [
    "### Orthonormal Basis\n",
    "\n",
    "A basis of mutually orthogonal vectors with norm equal to one is called an orthonormal basis.\n",
    "It is very easy to find the coeficients of a vector in an orthonormal basis: we just need to compute the dot products with the basis vectors."
   ]
  },
  {
   "cell_type": "markdown",
   "metadata": {},
   "source": [
    "### Dimension of a Vector Space\n",
    "\n",
    "The dimension of a vector space $\\mathcal{V}$ is the cardinality (i.e. the number of vectors) of a basis of $\\mathcal{V}$ over its base field\n",
    "\n",
    "The basis of $\\mathbb{R}^2$ is\n",
    "\n",
    "$$\\Bigg\\{\n",
    "\\begin{equation*}\n",
    "\\begin{pmatrix}\n",
    "1 \\\\\n",
    "0\n",
    "\\end{pmatrix},\n",
    "\\begin{pmatrix}\n",
    "0 \\\\\n",
    "1 \\\\\n",
    "\\end{pmatrix}\n",
    "\\end{equation*}\n",
    "\\Bigg\\}$$\n",
    "\n",
    "$\\therefore$ the dimension = 2\n",
    "\n",
    "and the basis of $\\mathbb{R}^3$ is:\n",
    "\n",
    "$$\\Bigg\\{\n",
    "\\begin{equation*}\n",
    "\\begin{pmatrix}\n",
    "1 \\\\\n",
    "0 \\\\\n",
    "0 \\\\\n",
    "\\end{pmatrix},\n",
    "\\begin{pmatrix}\n",
    "0 \\\\\n",
    "1 \\\\\n",
    "0 \\\\\n",
    "\\end{pmatrix},\n",
    "\\begin{pmatrix}\n",
    "0 \\\\\n",
    "0 \\\\\n",
    "1 \\\\\n",
    "\\end{pmatrix}\n",
    "\\end{equation*}\n",
    "\\Bigg\\}$$\n",
    "\n",
    "$\\therefore$ the dimension = 3\n"
   ]
  },
  {
   "cell_type": "markdown",
   "metadata": {},
   "source": [
    "### Inner Product\n",
    "An inner product on a vector space $\\mathcal{V}$ is an operation $\\langle.,.\\rangle$ that maps pairs of vectors to $\\mathbb{R}$ and satisfies the following conditions.\n",
    "\n",
    "- It is symmetric, for any $x,y \\in \\mathcal{V}$\n",
    "\n",
    "$$\\langle x,y \\rangle = \\langle y,x \\rangle$$\n",
    "\n",
    "- It is linear, for any $\\alpha \\in \\mathbb{R}$ and any $x,y,z \\in \\mathcal{V}$\n",
    "\n",
    "$$\\langle \\alpha x ,y \\rangle = \\alpha \\langle y ,x \\rangle $$\n",
    "\n",
    "- It is positive, semi-definite, for any $\\alpha \\in \\mathcal{V}$ and any $x,y,z \\in \\mathcal{V} \\ \\langle x,y \\rangle \\geq 0$ and $\\langle x,x \\rangle = 0$ implies x = 0.\n",
    "\n",
    "A vectopr space $\\mathcal{V}$ endowed with an inner product is called an <b>inner-product space</b>. In Euclidean geometry, the dot product of the Cartesian coordinates of two vectors is widely used and often called inner product "
   ]
  },
  {
   "cell_type": "markdown",
   "metadata": {},
   "source": [
    "### Dot Product\n",
    "\n",
    "The dot product between two vectors $x,y \\in \\mathbb{R}^n$ is defined as\n",
    "\n",
    "$$x\\cdot y := \\sum_{i=1}^{m} x[i]\\ y[i]$$\n",
    "\n",
    "Let's calculate the dot product of the following example\n",
    "\n",
    "$$x=\\begin{equation*}\n",
    "\\begin{pmatrix}\n",
    "1 \\\\\n",
    "3 \\\\\n",
    "-5 \\\\\n",
    "\\end{pmatrix},\n",
    "y=\n",
    "\\begin{pmatrix}\n",
    "4 \\\\\n",
    "-2 \\\\\n",
    "-1 \\\\\n",
    "\\end{pmatrix}\n",
    "\\end{equation*}\n",
    "$$\n",
    "\n",
    "[1,3,-5].[4,-2,-1] = (1 x 4) + (3 x -2) + (-5 x -1) = 4 - 6 + 5\n",
    "\n",
    "$\\therefore$\n",
    "\n",
    "$$x\\cdot y = 3$$\n",
    "\n",
    "$\\mathbb{R}^n$ endowed with the dot product is usually called an Euclidean space of dimension\n",
    "n\n",
    "\n"
   ]
  },
  {
   "cell_type": "markdown",
   "metadata": {},
   "source": [
    "### Vector Norm\n",
    "\n",
    "The norm of a vector is a gerneralisation of the concept of length. In linear algebra, functional analysis, and related areas of mathematics, a norm is a function that assigns a strictly positive length or size to each vector in a vector space—save for the zero vector, which is assigned a length of zero.\n",
    "\n",
    "Let $\\mathcal{V}$ be a vector space,  a norm is a function $||\\cdot||$ from $\\mathcal{V}$ to $\\mathbb{R}$ that satisfies the following condition"
   ]
  },
  {
   "cell_type": "markdown",
   "metadata": {},
   "source": [
    "### Vector Distance"
   ]
  },
  {
   "cell_type": "markdown",
   "metadata": {},
   "source": [
    "### Cauchy-Schwarz inequality"
   ]
  },
  {
   "cell_type": "markdown",
   "metadata": {},
   "source": [
    "### Euclidean Norm"
   ]
  },
  {
   "cell_type": "markdown",
   "metadata": {},
   "source": [
    "### Standard Deviation as Norm"
   ]
  },
  {
   "cell_type": "markdown",
   "metadata": {},
   "source": [
    "### Orthogonality"
   ]
  },
  {
   "cell_type": "markdown",
   "metadata": {},
   "source": [
    "### Pythagorean theorem"
   ]
  },
  {
   "cell_type": "markdown",
   "metadata": {},
   "source": [
    "### Gram-Schmidt"
   ]
  }
 ],
 "metadata": {
  "kernelspec": {
   "display_name": "Python 3",
   "language": "python",
   "name": "python3"
  },
  "language_info": {
   "codemirror_mode": {
    "name": "ipython",
    "version": 3
   },
   "file_extension": ".py",
   "mimetype": "text/x-python",
   "name": "python",
   "nbconvert_exporter": "python",
   "pygments_lexer": "ipython3",
   "version": "3.6.4"
  }
 },
 "nbformat": 4,
 "nbformat_minor": 2
}
